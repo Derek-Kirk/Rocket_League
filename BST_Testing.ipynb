{
 "cells": [
  {
   "cell_type": "code",
   "execution_count": 1,
   "metadata": {},
   "outputs": [],
   "source": [
    "import RL_BST, pandas as pd\n",
    "import RL_Node"
   ]
  },
  {
   "cell_type": "code",
   "execution_count": 2,
   "metadata": {},
   "outputs": [
    {
     "name": "stdout",
     "output_type": "stream",
     "text": [
      "[<RL_Node.Node object at 0x00000252C21DAA30>, <RL_Node.Node object at 0x00000252C21DABB0>, <RL_Node.Node object at 0x00000252C21DA9A0>, <RL_Node.Node object at 0x00000252C21DAEE0>, <RL_Node.Node object at 0x00000252C21DA880>]\n"
     ]
    }
   ],
   "source": [
    "data = pd.read_csv(\"joined_data.csv\")\n",
    "temp = data[0:5]\n",
    "node_list = []\n",
    "for i in range(len(temp)):\n",
    "    n = RL_Node.Node(temp.iloc[i])\n",
    "    node_list.append(n)\n",
    "print(node_list)"
   ]
  },
  {
   "cell_type": "code",
   "execution_count": 4,
   "metadata": {},
   "outputs": [
    {
     "name": "stdout",
     "output_type": "stream",
     "text": [
      "For this match, Amphis had 3 goal(s), 0 assist(s),\n",
      "              4 saves, and an advanced rating of 0.86358972437059! \n",
      "For this match, Torsos had 2 goal(s), 5 assist(s),\n",
      "              2 saves, and an advanced rating of 1.35050027017908! \n",
      "For this match, Express had 4 goal(s), 2 assist(s),\n",
      "              2 saves, and an advanced rating of 1.23297014972143! \n",
      "For this match, Laxin had 1 goal(s), 1 assist(s),\n",
      "              8 saves, and an advanced rating of 0.806691750351558! \n",
      "For this match, Baked Potato had 3 goal(s), 0 assist(s),\n",
      "              4 saves, and an advanced rating of 1.07798285595665! \n"
     ]
    }
   ],
   "source": [
    "for node in node_list:\n",
    "    print(node)\n"
   ]
  },
  {
   "cell_type": "code",
   "execution_count": 5,
   "metadata": {},
   "outputs": [],
   "source": [
    "Tree = RL_BST.BST()"
   ]
  },
  {
   "cell_type": "code",
   "execution_count": 6,
   "metadata": {},
   "outputs": [
    {
     "name": "stdout",
     "output_type": "stream",
     "text": [
      "Help on module RL_BST:\n",
      "\n",
      "NAME\n",
      "    RL_BST\n",
      "\n",
      "CLASSES\n",
      "    builtins.object\n",
      "        BST\n",
      "    \n",
      "    class BST(builtins.object)\n",
      "     |  Methods defined here:\n",
      "     |  \n",
      "     |  __init__(self)\n",
      "     |      Initialize self.  See help(type(self)) for accurate signature.\n",
      "     |  \n",
      "     |  __str__(self)\n",
      "     |      Return str(self).\n",
      "     |  \n",
      "     |  add_node(self, node, next_node=None)\n",
      "     |  \n",
      "     |  search(self, lower, upper, node=None)\n",
      "     |  \n",
      "     |  ----------------------------------------------------------------------\n",
      "     |  Data descriptors defined here:\n",
      "     |  \n",
      "     |  __dict__\n",
      "     |      dictionary for instance variables (if defined)\n",
      "     |  \n",
      "     |  __weakref__\n",
      "     |      list of weak references to the object (if defined)\n",
      "\n",
      "FILE\n",
      "    c:\\rocket_league\\rl_bst.py\n",
      "\n",
      "\n"
     ]
    }
   ],
   "source": [
    "help(RL_BST)"
   ]
  },
  {
   "cell_type": "code",
   "execution_count": 7,
   "metadata": {},
   "outputs": [],
   "source": [
    "for obj in node_list:\n",
    "    Tree.add_node(obj)"
   ]
  },
  {
   "cell_type": "code",
   "execution_count": 20,
   "metadata": {},
   "outputs": [],
   "source": [
    "arsenal_df = data[data.player_tag == 'Arsenal']\n"
   ]
  },
  {
   "cell_type": "code",
   "execution_count": 27,
   "metadata": {},
   "outputs": [
    {
     "name": "stdout",
     "output_type": "stream",
     "text": [
      "This is the root For this match, Arsenal had 5 goal(s), 3 assist(s),\n",
      "              7 saves, and an advanced rating of 1.67037625372216! \n"
     ]
    }
   ],
   "source": [
    "a_tree = RL_BST.BST()\n",
    "for i in range(len(arsenal_df)):\n",
    "    obj = RL_Node.Node(arsenal_df.iloc[i])\n",
    "    a_tree.add_node(obj)\n",
    "print(a_tree)\n"
   ]
  },
  {
   "cell_type": "code",
   "execution_count": null,
   "metadata": {},
   "outputs": [],
   "source": []
  }
 ],
 "metadata": {
  "kernelspec": {
   "display_name": "base",
   "language": "python",
   "name": "python3"
  },
  "language_info": {
   "codemirror_mode": {
    "name": "ipython",
    "version": 3
   },
   "file_extension": ".py",
   "mimetype": "text/x-python",
   "name": "python",
   "nbconvert_exporter": "python",
   "pygments_lexer": "ipython3",
   "version": "3.8.8"
  },
  "orig_nbformat": 4,
  "vscode": {
   "interpreter": {
    "hash": "ea8238db6dc1fe8cf6fe83219457bde9bcbcde2053d40c59d2e78211d10c5fee"
   }
  }
 },
 "nbformat": 4,
 "nbformat_minor": 2
}
