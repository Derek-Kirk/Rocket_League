{
 "cells": [
  {
   "cell_type": "code",
   "execution_count": 7,
   "metadata": {},
   "outputs": [],
   "source": [
    "import csv\n",
    "import numpy as np\n",
    "import pandas as pd\n",
    "import matplotlib.pyplot as plt\n",
    "import statistics as sts\n",
    "\n",
    "from sklearn import linear_model, metrics, preprocessing\n",
    "from sklearn.model_selection import train_test_split, cross_val_score"
   ]
  },
  {
   "attachments": {},
   "cell_type": "markdown",
   "metadata": {},
   "source": [
    "## Multilinear Models with Standard RL Stats\n",
    "#### This sections includes the use of Cross Validation and the use of regression metrics to evaluate which model is the best."
   ]
  },
  {
   "cell_type": "code",
   "execution_count": 8,
   "metadata": {},
   "outputs": [
    {
     "data": {
      "text/html": [
       "<div>\n",
       "<style scoped>\n",
       "    .dataframe tbody tr th:only-of-type {\n",
       "        vertical-align: middle;\n",
       "    }\n",
       "\n",
       "    .dataframe tbody tr th {\n",
       "        vertical-align: top;\n",
       "    }\n",
       "\n",
       "    .dataframe thead th {\n",
       "        text-align: right;\n",
       "    }\n",
       "</style>\n",
       "<table border=\"1\" class=\"dataframe\">\n",
       "  <thead>\n",
       "    <tr style=\"text-align: right;\">\n",
       "      <th></th>\n",
       "      <th>core_goals</th>\n",
       "      <th>core_assists</th>\n",
       "      <th>core_saves</th>\n",
       "      <th>core_shots</th>\n",
       "      <th>core_score</th>\n",
       "      <th>demo_inflicted</th>\n",
       "      <th>demo_taken</th>\n",
       "      <th>advanced_rating</th>\n",
       "    </tr>\n",
       "  </thead>\n",
       "  <tbody>\n",
       "    <tr>\n",
       "      <th>0</th>\n",
       "      <td>3</td>\n",
       "      <td>0</td>\n",
       "      <td>4</td>\n",
       "      <td>9</td>\n",
       "      <td>1119</td>\n",
       "      <td>2</td>\n",
       "      <td>2</td>\n",
       "      <td>0.863590</td>\n",
       "    </tr>\n",
       "    <tr>\n",
       "      <th>1</th>\n",
       "      <td>2</td>\n",
       "      <td>5</td>\n",
       "      <td>2</td>\n",
       "      <td>13</td>\n",
       "      <td>1209</td>\n",
       "      <td>2</td>\n",
       "      <td>0</td>\n",
       "      <td>1.350500</td>\n",
       "    </tr>\n",
       "    <tr>\n",
       "      <th>2</th>\n",
       "      <td>4</td>\n",
       "      <td>2</td>\n",
       "      <td>2</td>\n",
       "      <td>12</td>\n",
       "      <td>1077</td>\n",
       "      <td>2</td>\n",
       "      <td>5</td>\n",
       "      <td>1.232970</td>\n",
       "    </tr>\n",
       "    <tr>\n",
       "      <th>3</th>\n",
       "      <td>1</td>\n",
       "      <td>1</td>\n",
       "      <td>8</td>\n",
       "      <td>5</td>\n",
       "      <td>1086</td>\n",
       "      <td>1</td>\n",
       "      <td>2</td>\n",
       "      <td>0.806692</td>\n",
       "    </tr>\n",
       "    <tr>\n",
       "      <th>4</th>\n",
       "      <td>3</td>\n",
       "      <td>0</td>\n",
       "      <td>4</td>\n",
       "      <td>4</td>\n",
       "      <td>948</td>\n",
       "      <td>3</td>\n",
       "      <td>3</td>\n",
       "      <td>1.077983</td>\n",
       "    </tr>\n",
       "  </tbody>\n",
       "</table>\n",
       "</div>"
      ],
      "text/plain": [
       "   core_goals  core_assists  core_saves  core_shots  core_score  \\\n",
       "0           3             0           4           9        1119   \n",
       "1           2             5           2          13        1209   \n",
       "2           4             2           2          12        1077   \n",
       "3           1             1           8           5        1086   \n",
       "4           3             0           4           4         948   \n",
       "\n",
       "   demo_inflicted  demo_taken  advanced_rating  \n",
       "0               2           2         0.863590  \n",
       "1               2           0         1.350500  \n",
       "2               2           5         1.232970  \n",
       "3               1           2         0.806692  \n",
       "4               3           3         1.077983  "
      ]
     },
     "execution_count": 8,
     "metadata": {},
     "output_type": "execute_result"
    }
   ],
   "source": [
    "full_data = pd.read_csv(\"joined_data.csv\")\n",
    "full_data\n",
    "data = full_data[full_data.columns[4:]] # Dropping first columns.\n",
    "data.head(\n",
    ")"
   ]
  },
  {
   "cell_type": "code",
   "execution_count": 9,
   "metadata": {},
   "outputs": [],
   "source": [
    "mp = pd.read_csv(\"matches_by_players.csv\")\n",
    "mp\n",
    "#player_list = {mp.iloc[row][\"player_id\"]:mp.iloc[row][\"player_tag\"] for row in range(len(mp))}\n",
    "player_list = dict(zip(mp.player_id, mp.player_tag))"
   ]
  },
  {
   "cell_type": "code",
   "execution_count": 10,
   "metadata": {},
   "outputs": [
    {
     "data": {
      "text/html": [
       "<div>\n",
       "<style scoped>\n",
       "    .dataframe tbody tr th:only-of-type {\n",
       "        vertical-align: middle;\n",
       "    }\n",
       "\n",
       "    .dataframe tbody tr th {\n",
       "        vertical-align: top;\n",
       "    }\n",
       "\n",
       "    .dataframe thead th {\n",
       "        text-align: right;\n",
       "    }\n",
       "</style>\n",
       "<table border=\"1\" class=\"dataframe\">\n",
       "  <thead>\n",
       "    <tr style=\"text-align: right;\">\n",
       "      <th></th>\n",
       "      <th>0</th>\n",
       "      <th>1</th>\n",
       "      <th>2</th>\n",
       "    </tr>\n",
       "  </thead>\n",
       "  <tbody>\n",
       "    <tr>\n",
       "      <th>0</th>\n",
       "      <td>5f3d8fdd95f40596eae2412e</td>\n",
       "      <td>Amphis</td>\n",
       "      <td>6159ad3d143c37878b2384a9</td>\n",
       "    </tr>\n",
       "    <tr>\n",
       "      <th>1</th>\n",
       "      <td>5f3d8fdd95f40596eae23e01</td>\n",
       "      <td>Torsos</td>\n",
       "      <td>6159ad3d143c37878b2384a9</td>\n",
       "    </tr>\n",
       "    <tr>\n",
       "      <th>2</th>\n",
       "      <td>5f3d8fdd95f40596eae23e53</td>\n",
       "      <td>Express</td>\n",
       "      <td>6159ad3d143c37878b2384a9</td>\n",
       "    </tr>\n",
       "    <tr>\n",
       "      <th>3</th>\n",
       "      <td>5f7ca648ea8a0f0714fb9a20</td>\n",
       "      <td>Laxin</td>\n",
       "      <td>6159ad3d143c37878b2384a9</td>\n",
       "    </tr>\n",
       "    <tr>\n",
       "      <th>4</th>\n",
       "      <td>5f3d8fdd95f40596eae24503</td>\n",
       "      <td>Baked Potato</td>\n",
       "      <td>6159ad3d143c37878b2384a9</td>\n",
       "    </tr>\n",
       "    <tr>\n",
       "      <th>...</th>\n",
       "      <td>...</td>\n",
       "      <td>...</td>\n",
       "      <td>...</td>\n",
       "    </tr>\n",
       "    <tr>\n",
       "      <th>25618</th>\n",
       "      <td>5f3d8fdd95f40596eae23f8f</td>\n",
       "      <td>Maxeew</td>\n",
       "      <td>62a3988cda9d7ca1c7bb22ba</td>\n",
       "    </tr>\n",
       "    <tr>\n",
       "      <th>25619</th>\n",
       "      <td>5f3d8fdd95f40596eae23f3f</td>\n",
       "      <td>Abscrazy</td>\n",
       "      <td>62a3988cda9d7ca1c7bb22ba</td>\n",
       "    </tr>\n",
       "    <tr>\n",
       "      <th>25620</th>\n",
       "      <td>5f9c7cde5246bf27936b4572</td>\n",
       "      <td>mikan</td>\n",
       "      <td>62a3988cda9d7ca1c7bb22ba</td>\n",
       "    </tr>\n",
       "    <tr>\n",
       "      <th>25621</th>\n",
       "      <td>5f3d8fdd95f40596eae2414a</td>\n",
       "      <td>Burn</td>\n",
       "      <td>62a3988cda9d7ca1c7bb22ba</td>\n",
       "    </tr>\n",
       "    <tr>\n",
       "      <th>25622</th>\n",
       "      <td>616da861143c37878b239d65</td>\n",
       "      <td>Lunatic</td>\n",
       "      <td>62a3988cda9d7ca1c7bb22ba</td>\n",
       "    </tr>\n",
       "  </tbody>\n",
       "</table>\n",
       "<p>25623 rows × 3 columns</p>\n",
       "</div>"
      ],
      "text/plain": [
       "                              0             1                         2\n",
       "0      5f3d8fdd95f40596eae2412e        Amphis  6159ad3d143c37878b2384a9\n",
       "1      5f3d8fdd95f40596eae23e01        Torsos  6159ad3d143c37878b2384a9\n",
       "2      5f3d8fdd95f40596eae23e53       Express  6159ad3d143c37878b2384a9\n",
       "3      5f7ca648ea8a0f0714fb9a20         Laxin  6159ad3d143c37878b2384a9\n",
       "4      5f3d8fdd95f40596eae24503  Baked Potato  6159ad3d143c37878b2384a9\n",
       "...                         ...           ...                       ...\n",
       "25618  5f3d8fdd95f40596eae23f8f        Maxeew  62a3988cda9d7ca1c7bb22ba\n",
       "25619  5f3d8fdd95f40596eae23f3f      Abscrazy  62a3988cda9d7ca1c7bb22ba\n",
       "25620  5f9c7cde5246bf27936b4572         mikan  62a3988cda9d7ca1c7bb22ba\n",
       "25621  5f3d8fdd95f40596eae2414a          Burn  62a3988cda9d7ca1c7bb22ba\n",
       "25622  616da861143c37878b239d65       Lunatic  62a3988cda9d7ca1c7bb22ba\n",
       "\n",
       "[25623 rows x 3 columns]"
      ]
     },
     "execution_count": 10,
     "metadata": {},
     "output_type": "execute_result"
    }
   ],
   "source": [
    "pd.DataFrame(list(zip(mp.player_id, mp.player_tag, mp.match_id)))"
   ]
  },
  {
   "cell_type": "code",
   "execution_count": 11,
   "metadata": {},
   "outputs": [],
   "source": [
    "# Splitting Data\n",
    "Y = data[\"advanced_rating\"]\n",
    "X = data[['core_goals','core_assists', 'core_saves', 'core_shots','demo_inflicted', 'demo_taken']]\n",
    "\n",
    "X_train, X_test, Y_train, Y_test = train_test_split(X, Y, random_state=404)\n"
   ]
  },
  {
   "cell_type": "code",
   "execution_count": 12,
   "metadata": {},
   "outputs": [
    {
     "name": "stdout",
     "output_type": "stream",
     "text": [
      "model intercept is 0.5789492603233665 and model coefficients are [ 0.1347999   0.08098808  0.00997382 -0.00948071 -0.01101295 -0.01653932]\n",
      "model score = 0.7630103711600398\n",
      "mse = 0.027826834519614107\n"
     ]
    }
   ],
   "source": [
    "model = linear_model.LinearRegression()\n",
    "model.fit(X_train, Y_train)\n",
    "y_pred = model.predict(X_test)\n",
    "print(f'model intercept is {model.intercept_} and model coefficients are {model.coef_}')\n",
    "print(f'model score = {model.score(X_test, Y_test)}')\n",
    "print(f'mse = {metrics.mean_squared_error(Y_test, y_pred)}')\n"
   ]
  },
  {
   "cell_type": "code",
   "execution_count": 22,
   "metadata": {},
   "outputs": [
    {
     "data": {
      "text/plain": [
       "0.7619424236325764"
      ]
     },
     "execution_count": 22,
     "metadata": {},
     "output_type": "execute_result"
    }
   ],
   "source": [
    "vs = cross_val_score(model, X_test,Y_test)\n",
    "print(f'Cross validation score = {sts.mean(vs)}')"
   ]
  },
  {
   "cell_type": "markdown",
   "metadata": {},
   "source": [
    "**Feature Engineering**"
   ]
  },
  {
   "cell_type": "code",
   "execution_count": 23,
   "metadata": {},
   "outputs": [
    {
     "data": {
      "text/html": [
       "<div>\n",
       "<style scoped>\n",
       "    .dataframe tbody tr th:only-of-type {\n",
       "        vertical-align: middle;\n",
       "    }\n",
       "\n",
       "    .dataframe tbody tr th {\n",
       "        vertical-align: top;\n",
       "    }\n",
       "\n",
       "    .dataframe thead th {\n",
       "        text-align: right;\n",
       "    }\n",
       "</style>\n",
       "<table border=\"1\" class=\"dataframe\">\n",
       "  <thead>\n",
       "    <tr style=\"text-align: right;\">\n",
       "      <th></th>\n",
       "      <th>core_goals</th>\n",
       "      <th>core_assists</th>\n",
       "      <th>core_saves</th>\n",
       "      <th>core_shots</th>\n",
       "      <th>core_score</th>\n",
       "      <th>demo_inflicted</th>\n",
       "      <th>demo_taken</th>\n",
       "      <th>advanced_rating</th>\n",
       "    </tr>\n",
       "  </thead>\n",
       "  <tbody>\n",
       "    <tr>\n",
       "      <th>0</th>\n",
       "      <td>3</td>\n",
       "      <td>0</td>\n",
       "      <td>4</td>\n",
       "      <td>9</td>\n",
       "      <td>1119</td>\n",
       "      <td>2</td>\n",
       "      <td>2</td>\n",
       "      <td>0.863590</td>\n",
       "    </tr>\n",
       "    <tr>\n",
       "      <th>1</th>\n",
       "      <td>2</td>\n",
       "      <td>5</td>\n",
       "      <td>2</td>\n",
       "      <td>13</td>\n",
       "      <td>1209</td>\n",
       "      <td>2</td>\n",
       "      <td>0</td>\n",
       "      <td>1.350500</td>\n",
       "    </tr>\n",
       "    <tr>\n",
       "      <th>2</th>\n",
       "      <td>4</td>\n",
       "      <td>2</td>\n",
       "      <td>2</td>\n",
       "      <td>12</td>\n",
       "      <td>1077</td>\n",
       "      <td>2</td>\n",
       "      <td>5</td>\n",
       "      <td>1.232970</td>\n",
       "    </tr>\n",
       "    <tr>\n",
       "      <th>3</th>\n",
       "      <td>1</td>\n",
       "      <td>1</td>\n",
       "      <td>8</td>\n",
       "      <td>5</td>\n",
       "      <td>1086</td>\n",
       "      <td>1</td>\n",
       "      <td>2</td>\n",
       "      <td>0.806692</td>\n",
       "    </tr>\n",
       "    <tr>\n",
       "      <th>4</th>\n",
       "      <td>3</td>\n",
       "      <td>0</td>\n",
       "      <td>4</td>\n",
       "      <td>4</td>\n",
       "      <td>948</td>\n",
       "      <td>3</td>\n",
       "      <td>3</td>\n",
       "      <td>1.077983</td>\n",
       "    </tr>\n",
       "  </tbody>\n",
       "</table>\n",
       "</div>"
      ],
      "text/plain": [
       "   core_goals  core_assists  core_saves  core_shots  core_score  \\\n",
       "0           3             0           4           9        1119   \n",
       "1           2             5           2          13        1209   \n",
       "2           4             2           2          12        1077   \n",
       "3           1             1           8           5        1086   \n",
       "4           3             0           4           4         948   \n",
       "\n",
       "   demo_inflicted  demo_taken  advanced_rating  \n",
       "0               2           2         0.863590  \n",
       "1               2           0         1.350500  \n",
       "2               2           5         1.232970  \n",
       "3               1           2         0.806692  \n",
       "4               3           3         1.077983  "
      ]
     },
     "execution_count": 23,
     "metadata": {},
     "output_type": "execute_result"
    }
   ],
   "source": [
    "data.head(\n",
    ")"
   ]
  },
  {
   "cell_type": "markdown",
   "metadata": {},
   "source": [
    "Need to scale core_score and advanced_rating."
   ]
  },
  {
   "cell_type": "markdown",
   "metadata": {},
   "source": []
  }
 ],
 "metadata": {
  "kernelspec": {
   "display_name": "base",
   "language": "python",
   "name": "python3"
  },
  "language_info": {
   "codemirror_mode": {
    "name": "ipython",
    "version": 3
   },
   "file_extension": ".py",
   "mimetype": "text/x-python",
   "name": "python",
   "nbconvert_exporter": "python",
   "pygments_lexer": "ipython3",
   "version": "3.8.8"
  },
  "orig_nbformat": 4,
  "vscode": {
   "interpreter": {
    "hash": "ea8238db6dc1fe8cf6fe83219457bde9bcbcde2053d40c59d2e78211d10c5fee"
   }
  }
 },
 "nbformat": 4,
 "nbformat_minor": 2
}
