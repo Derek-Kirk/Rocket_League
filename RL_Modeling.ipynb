{
 "cells": [
  {
   "cell_type": "code",
   "execution_count": 3,
   "metadata": {},
   "outputs": [],
   "source": [
    "import csv\n",
    "import numpy as np\n",
    "import pandas as pd\n",
    "import matplotlib.pyplot as plt\n",
    "\n",
    "from sklearn import svm, linear_model, metrics\n",
    "from sklearn.model_selection import train_test_split, cross_val_score"
   ]
  },
  {
   "cell_type": "code",
   "execution_count": 20,
   "metadata": {},
   "outputs": [
    {
     "data": {
      "text/html": [
       "<div>\n",
       "<style scoped>\n",
       "    .dataframe tbody tr th:only-of-type {\n",
       "        vertical-align: middle;\n",
       "    }\n",
       "\n",
       "    .dataframe tbody tr th {\n",
       "        vertical-align: top;\n",
       "    }\n",
       "\n",
       "    .dataframe thead th {\n",
       "        text-align: right;\n",
       "    }\n",
       "</style>\n",
       "<table border=\"1\" class=\"dataframe\">\n",
       "  <thead>\n",
       "    <tr style=\"text-align: right;\">\n",
       "      <th></th>\n",
       "      <th>core_goals</th>\n",
       "      <th>core_assists</th>\n",
       "      <th>core_saves</th>\n",
       "      <th>core_shots</th>\n",
       "      <th>core_score</th>\n",
       "      <th>demo_inflicted</th>\n",
       "      <th>demo_taken</th>\n",
       "      <th>advanced_rating</th>\n",
       "    </tr>\n",
       "  </thead>\n",
       "  <tbody>\n",
       "    <tr>\n",
       "      <th>0</th>\n",
       "      <td>3</td>\n",
       "      <td>0</td>\n",
       "      <td>4</td>\n",
       "      <td>9</td>\n",
       "      <td>1119</td>\n",
       "      <td>2</td>\n",
       "      <td>2</td>\n",
       "      <td>0.863590</td>\n",
       "    </tr>\n",
       "    <tr>\n",
       "      <th>1</th>\n",
       "      <td>2</td>\n",
       "      <td>5</td>\n",
       "      <td>2</td>\n",
       "      <td>13</td>\n",
       "      <td>1209</td>\n",
       "      <td>2</td>\n",
       "      <td>0</td>\n",
       "      <td>1.350500</td>\n",
       "    </tr>\n",
       "    <tr>\n",
       "      <th>2</th>\n",
       "      <td>4</td>\n",
       "      <td>2</td>\n",
       "      <td>2</td>\n",
       "      <td>12</td>\n",
       "      <td>1077</td>\n",
       "      <td>2</td>\n",
       "      <td>5</td>\n",
       "      <td>1.232970</td>\n",
       "    </tr>\n",
       "    <tr>\n",
       "      <th>3</th>\n",
       "      <td>1</td>\n",
       "      <td>1</td>\n",
       "      <td>8</td>\n",
       "      <td>5</td>\n",
       "      <td>1086</td>\n",
       "      <td>1</td>\n",
       "      <td>2</td>\n",
       "      <td>0.806692</td>\n",
       "    </tr>\n",
       "    <tr>\n",
       "      <th>4</th>\n",
       "      <td>3</td>\n",
       "      <td>0</td>\n",
       "      <td>4</td>\n",
       "      <td>4</td>\n",
       "      <td>948</td>\n",
       "      <td>3</td>\n",
       "      <td>3</td>\n",
       "      <td>1.077983</td>\n",
       "    </tr>\n",
       "    <tr>\n",
       "      <th>...</th>\n",
       "      <td>...</td>\n",
       "      <td>...</td>\n",
       "      <td>...</td>\n",
       "      <td>...</td>\n",
       "      <td>...</td>\n",
       "      <td>...</td>\n",
       "      <td>...</td>\n",
       "      <td>...</td>\n",
       "    </tr>\n",
       "    <tr>\n",
       "      <th>25479</th>\n",
       "      <td>6</td>\n",
       "      <td>8</td>\n",
       "      <td>10</td>\n",
       "      <td>18</td>\n",
       "      <td>2886</td>\n",
       "      <td>6</td>\n",
       "      <td>5</td>\n",
       "      <td>1.306242</td>\n",
       "    </tr>\n",
       "    <tr>\n",
       "      <th>25480</th>\n",
       "      <td>3</td>\n",
       "      <td>4</td>\n",
       "      <td>6</td>\n",
       "      <td>12</td>\n",
       "      <td>1719</td>\n",
       "      <td>7</td>\n",
       "      <td>9</td>\n",
       "      <td>0.755061</td>\n",
       "    </tr>\n",
       "    <tr>\n",
       "      <th>25481</th>\n",
       "      <td>6</td>\n",
       "      <td>3</td>\n",
       "      <td>11</td>\n",
       "      <td>11</td>\n",
       "      <td>2462</td>\n",
       "      <td>8</td>\n",
       "      <td>5</td>\n",
       "      <td>1.148616</td>\n",
       "    </tr>\n",
       "    <tr>\n",
       "      <th>25482</th>\n",
       "      <td>6</td>\n",
       "      <td>2</td>\n",
       "      <td>5</td>\n",
       "      <td>27</td>\n",
       "      <td>2251</td>\n",
       "      <td>10</td>\n",
       "      <td>10</td>\n",
       "      <td>0.949304</td>\n",
       "    </tr>\n",
       "    <tr>\n",
       "      <th>25483</th>\n",
       "      <td>1</td>\n",
       "      <td>5</td>\n",
       "      <td>12</td>\n",
       "      <td>8</td>\n",
       "      <td>1987</td>\n",
       "      <td>7</td>\n",
       "      <td>6</td>\n",
       "      <td>0.684767</td>\n",
       "    </tr>\n",
       "  </tbody>\n",
       "</table>\n",
       "<p>25484 rows × 8 columns</p>\n",
       "</div>"
      ],
      "text/plain": [
       "       core_goals  core_assists  core_saves  core_shots  core_score  \\\n",
       "0               3             0           4           9        1119   \n",
       "1               2             5           2          13        1209   \n",
       "2               4             2           2          12        1077   \n",
       "3               1             1           8           5        1086   \n",
       "4               3             0           4           4         948   \n",
       "...           ...           ...         ...         ...         ...   \n",
       "25479           6             8          10          18        2886   \n",
       "25480           3             4           6          12        1719   \n",
       "25481           6             3          11          11        2462   \n",
       "25482           6             2           5          27        2251   \n",
       "25483           1             5          12           8        1987   \n",
       "\n",
       "       demo_inflicted  demo_taken  advanced_rating  \n",
       "0                   2           2         0.863590  \n",
       "1                   2           0         1.350500  \n",
       "2                   2           5         1.232970  \n",
       "3                   1           2         0.806692  \n",
       "4                   3           3         1.077983  \n",
       "...               ...         ...              ...  \n",
       "25479               6           5         1.306242  \n",
       "25480               7           9         0.755061  \n",
       "25481               8           5         1.148616  \n",
       "25482              10          10         0.949304  \n",
       "25483               7           6         0.684767  \n",
       "\n",
       "[25484 rows x 8 columns]"
      ]
     },
     "execution_count": 20,
     "metadata": {},
     "output_type": "execute_result"
    }
   ],
   "source": [
    "data = pd.read_csv(\"joined_data.csv\")\n",
    "data = data[data.columns[4:]] # Dropping first columns. \n",
    "data"
   ]
  },
  {
   "cell_type": "code",
   "execution_count": 32,
   "metadata": {},
   "outputs": [],
   "source": [
    "# Splitting Data\n",
    "Y = data[\"advanced_rating\"].to_numpy()\n",
    "X = data[['core_goals','core_assists', 'core_saves', 'core_shots', 'core_score','demo_inflicted', 'demo_taken']].to_numpy()\n",
    "\n",
    "X_train, X_test, Y_train, Y_test = train_test_split(X, Y, random_state=404)"
   ]
  },
  {
   "cell_type": "code",
   "execution_count": 33,
   "metadata": {},
   "outputs": [
    {
     "data": {
      "text/plain": [
       "0.7911053259229601"
      ]
     },
     "execution_count": 33,
     "metadata": {},
     "output_type": "execute_result"
    }
   ],
   "source": [
    "model = linear_model.Ridge()\n",
    "model.fit(X_train,Y_train)\n",
    "model.score(X_test, Y_test)\n"
   ]
  },
  {
   "cell_type": "code",
   "execution_count": 34,
   "metadata": {},
   "outputs": [
    {
     "name": "stdout",
     "output_type": "stream",
     "text": [
      "model intercept is 0.6559595152813994 and model coefficients are [ 0.18192036  0.10850757  0.04842838  0.00215379 -0.0004514  -0.00764043\n",
      " -0.0118235 ]\n"
     ]
    }
   ],
   "source": [
    "print(f'model intercept is {model.intercept_} and model coefficients are {model.coef_}')"
   ]
  },
  {
   "cell_type": "code",
   "execution_count": null,
   "metadata": {},
   "outputs": [],
   "source": []
  }
 ],
 "metadata": {
  "kernelspec": {
   "display_name": "base",
   "language": "python",
   "name": "python3"
  },
  "language_info": {
   "codemirror_mode": {
    "name": "ipython",
    "version": 3
   },
   "file_extension": ".py",
   "mimetype": "text/x-python",
   "name": "python",
   "nbconvert_exporter": "python",
   "pygments_lexer": "ipython3",
   "version": "3.8.8"
  },
  "orig_nbformat": 4,
  "vscode": {
   "interpreter": {
    "hash": "ea8238db6dc1fe8cf6fe83219457bde9bcbcde2053d40c59d2e78211d10c5fee"
   }
  }
 },
 "nbformat": 4,
 "nbformat_minor": 2
}
