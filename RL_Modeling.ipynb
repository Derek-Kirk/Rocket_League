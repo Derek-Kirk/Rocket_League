{
 "cells": [
  {
   "cell_type": "code",
   "execution_count": 4,
   "metadata": {},
   "outputs": [],
   "source": [
    "import csv\n",
    "import numpy as np\n",
    "import pandas as pd\n",
    "import matplotlib.pyplot as plt\n",
    "\n",
    "from sklearn import linear_model, metrics\n",
    "from sklearn.model_selection import train_test_split, cross_val_score"
   ]
  },
  {
   "cell_type": "code",
   "execution_count": 5,
   "metadata": {},
   "outputs": [
    {
     "data": {
      "text/html": [
       "<div>\n",
       "<style scoped>\n",
       "    .dataframe tbody tr th:only-of-type {\n",
       "        vertical-align: middle;\n",
       "    }\n",
       "\n",
       "    .dataframe tbody tr th {\n",
       "        vertical-align: top;\n",
       "    }\n",
       "\n",
       "    .dataframe thead th {\n",
       "        text-align: right;\n",
       "    }\n",
       "</style>\n",
       "<table border=\"1\" class=\"dataframe\">\n",
       "  <thead>\n",
       "    <tr style=\"text-align: right;\">\n",
       "      <th></th>\n",
       "      <th>core_goals</th>\n",
       "      <th>core_assists</th>\n",
       "      <th>core_saves</th>\n",
       "      <th>core_shots</th>\n",
       "      <th>core_score</th>\n",
       "      <th>demo_inflicted</th>\n",
       "      <th>demo_taken</th>\n",
       "      <th>advanced_rating</th>\n",
       "    </tr>\n",
       "  </thead>\n",
       "  <tbody>\n",
       "    <tr>\n",
       "      <th>0</th>\n",
       "      <td>3</td>\n",
       "      <td>0</td>\n",
       "      <td>4</td>\n",
       "      <td>9</td>\n",
       "      <td>1119</td>\n",
       "      <td>2</td>\n",
       "      <td>2</td>\n",
       "      <td>0.863590</td>\n",
       "    </tr>\n",
       "    <tr>\n",
       "      <th>1</th>\n",
       "      <td>2</td>\n",
       "      <td>5</td>\n",
       "      <td>2</td>\n",
       "      <td>13</td>\n",
       "      <td>1209</td>\n",
       "      <td>2</td>\n",
       "      <td>0</td>\n",
       "      <td>1.350500</td>\n",
       "    </tr>\n",
       "    <tr>\n",
       "      <th>2</th>\n",
       "      <td>4</td>\n",
       "      <td>2</td>\n",
       "      <td>2</td>\n",
       "      <td>12</td>\n",
       "      <td>1077</td>\n",
       "      <td>2</td>\n",
       "      <td>5</td>\n",
       "      <td>1.232970</td>\n",
       "    </tr>\n",
       "    <tr>\n",
       "      <th>3</th>\n",
       "      <td>1</td>\n",
       "      <td>1</td>\n",
       "      <td>8</td>\n",
       "      <td>5</td>\n",
       "      <td>1086</td>\n",
       "      <td>1</td>\n",
       "      <td>2</td>\n",
       "      <td>0.806692</td>\n",
       "    </tr>\n",
       "    <tr>\n",
       "      <th>4</th>\n",
       "      <td>3</td>\n",
       "      <td>0</td>\n",
       "      <td>4</td>\n",
       "      <td>4</td>\n",
       "      <td>948</td>\n",
       "      <td>3</td>\n",
       "      <td>3</td>\n",
       "      <td>1.077983</td>\n",
       "    </tr>\n",
       "    <tr>\n",
       "      <th>...</th>\n",
       "      <td>...</td>\n",
       "      <td>...</td>\n",
       "      <td>...</td>\n",
       "      <td>...</td>\n",
       "      <td>...</td>\n",
       "      <td>...</td>\n",
       "      <td>...</td>\n",
       "      <td>...</td>\n",
       "    </tr>\n",
       "    <tr>\n",
       "      <th>25479</th>\n",
       "      <td>6</td>\n",
       "      <td>8</td>\n",
       "      <td>10</td>\n",
       "      <td>18</td>\n",
       "      <td>2886</td>\n",
       "      <td>6</td>\n",
       "      <td>5</td>\n",
       "      <td>1.306242</td>\n",
       "    </tr>\n",
       "    <tr>\n",
       "      <th>25480</th>\n",
       "      <td>3</td>\n",
       "      <td>4</td>\n",
       "      <td>6</td>\n",
       "      <td>12</td>\n",
       "      <td>1719</td>\n",
       "      <td>7</td>\n",
       "      <td>9</td>\n",
       "      <td>0.755061</td>\n",
       "    </tr>\n",
       "    <tr>\n",
       "      <th>25481</th>\n",
       "      <td>6</td>\n",
       "      <td>3</td>\n",
       "      <td>11</td>\n",
       "      <td>11</td>\n",
       "      <td>2462</td>\n",
       "      <td>8</td>\n",
       "      <td>5</td>\n",
       "      <td>1.148616</td>\n",
       "    </tr>\n",
       "    <tr>\n",
       "      <th>25482</th>\n",
       "      <td>6</td>\n",
       "      <td>2</td>\n",
       "      <td>5</td>\n",
       "      <td>27</td>\n",
       "      <td>2251</td>\n",
       "      <td>10</td>\n",
       "      <td>10</td>\n",
       "      <td>0.949304</td>\n",
       "    </tr>\n",
       "    <tr>\n",
       "      <th>25483</th>\n",
       "      <td>1</td>\n",
       "      <td>5</td>\n",
       "      <td>12</td>\n",
       "      <td>8</td>\n",
       "      <td>1987</td>\n",
       "      <td>7</td>\n",
       "      <td>6</td>\n",
       "      <td>0.684767</td>\n",
       "    </tr>\n",
       "  </tbody>\n",
       "</table>\n",
       "<p>25484 rows × 8 columns</p>\n",
       "</div>"
      ],
      "text/plain": [
       "       core_goals  core_assists  core_saves  core_shots  core_score  \\\n",
       "0               3             0           4           9        1119   \n",
       "1               2             5           2          13        1209   \n",
       "2               4             2           2          12        1077   \n",
       "3               1             1           8           5        1086   \n",
       "4               3             0           4           4         948   \n",
       "...           ...           ...         ...         ...         ...   \n",
       "25479           6             8          10          18        2886   \n",
       "25480           3             4           6          12        1719   \n",
       "25481           6             3          11          11        2462   \n",
       "25482           6             2           5          27        2251   \n",
       "25483           1             5          12           8        1987   \n",
       "\n",
       "       demo_inflicted  demo_taken  advanced_rating  \n",
       "0                   2           2         0.863590  \n",
       "1                   2           0         1.350500  \n",
       "2                   2           5         1.232970  \n",
       "3                   1           2         0.806692  \n",
       "4                   3           3         1.077983  \n",
       "...               ...         ...              ...  \n",
       "25479               6           5         1.306242  \n",
       "25480               7           9         0.755061  \n",
       "25481               8           5         1.148616  \n",
       "25482              10          10         0.949304  \n",
       "25483               7           6         0.684767  \n",
       "\n",
       "[25484 rows x 8 columns]"
      ]
     },
     "execution_count": 5,
     "metadata": {},
     "output_type": "execute_result"
    }
   ],
   "source": [
    "full_data = pd.read_csv(\"joined_data.csv\")\n",
    "full_data\n",
    "data = full_data[full_data.columns[4:]] # Dropping first columns. \n",
    "data"
   ]
  },
  {
   "cell_type": "code",
   "execution_count": null,
   "metadata": {},
   "outputs": [],
   "source": []
  },
  {
   "cell_type": "code",
   "execution_count": 7,
   "metadata": {},
   "outputs": [],
   "source": [
    "mp = pd.read_csv(\"matches_by_players.csv\")\n",
    "mp\n",
    "#player_list = {mp.iloc[row][\"player_id\"]:mp.iloc[row][\"player_tag\"] for row in range(len(mp))}\n",
    "player_list = dict(zip(mp.player_id, mp.player_tag))"
   ]
  },
  {
   "cell_type": "code",
   "execution_count": 8,
   "metadata": {},
   "outputs": [
    {
     "data": {
      "text/html": [
       "<div>\n",
       "<style scoped>\n",
       "    .dataframe tbody tr th:only-of-type {\n",
       "        vertical-align: middle;\n",
       "    }\n",
       "\n",
       "    .dataframe tbody tr th {\n",
       "        vertical-align: top;\n",
       "    }\n",
       "\n",
       "    .dataframe thead th {\n",
       "        text-align: right;\n",
       "    }\n",
       "</style>\n",
       "<table border=\"1\" class=\"dataframe\">\n",
       "  <thead>\n",
       "    <tr style=\"text-align: right;\">\n",
       "      <th></th>\n",
       "      <th>0</th>\n",
       "      <th>1</th>\n",
       "      <th>2</th>\n",
       "    </tr>\n",
       "  </thead>\n",
       "  <tbody>\n",
       "    <tr>\n",
       "      <th>0</th>\n",
       "      <td>5f3d8fdd95f40596eae2412e</td>\n",
       "      <td>Amphis</td>\n",
       "      <td>6159ad3d143c37878b2384a9</td>\n",
       "    </tr>\n",
       "    <tr>\n",
       "      <th>1</th>\n",
       "      <td>5f3d8fdd95f40596eae23e01</td>\n",
       "      <td>Torsos</td>\n",
       "      <td>6159ad3d143c37878b2384a9</td>\n",
       "    </tr>\n",
       "    <tr>\n",
       "      <th>2</th>\n",
       "      <td>5f3d8fdd95f40596eae23e53</td>\n",
       "      <td>Express</td>\n",
       "      <td>6159ad3d143c37878b2384a9</td>\n",
       "    </tr>\n",
       "    <tr>\n",
       "      <th>3</th>\n",
       "      <td>5f7ca648ea8a0f0714fb9a20</td>\n",
       "      <td>Laxin</td>\n",
       "      <td>6159ad3d143c37878b2384a9</td>\n",
       "    </tr>\n",
       "    <tr>\n",
       "      <th>4</th>\n",
       "      <td>5f3d8fdd95f40596eae24503</td>\n",
       "      <td>Baked Potato</td>\n",
       "      <td>6159ad3d143c37878b2384a9</td>\n",
       "    </tr>\n",
       "    <tr>\n",
       "      <th>...</th>\n",
       "      <td>...</td>\n",
       "      <td>...</td>\n",
       "      <td>...</td>\n",
       "    </tr>\n",
       "    <tr>\n",
       "      <th>25618</th>\n",
       "      <td>5f3d8fdd95f40596eae23f8f</td>\n",
       "      <td>Maxeew</td>\n",
       "      <td>62a3988cda9d7ca1c7bb22ba</td>\n",
       "    </tr>\n",
       "    <tr>\n",
       "      <th>25619</th>\n",
       "      <td>5f3d8fdd95f40596eae23f3f</td>\n",
       "      <td>Abscrazy</td>\n",
       "      <td>62a3988cda9d7ca1c7bb22ba</td>\n",
       "    </tr>\n",
       "    <tr>\n",
       "      <th>25620</th>\n",
       "      <td>5f9c7cde5246bf27936b4572</td>\n",
       "      <td>mikan</td>\n",
       "      <td>62a3988cda9d7ca1c7bb22ba</td>\n",
       "    </tr>\n",
       "    <tr>\n",
       "      <th>25621</th>\n",
       "      <td>5f3d8fdd95f40596eae2414a</td>\n",
       "      <td>Burn</td>\n",
       "      <td>62a3988cda9d7ca1c7bb22ba</td>\n",
       "    </tr>\n",
       "    <tr>\n",
       "      <th>25622</th>\n",
       "      <td>616da861143c37878b239d65</td>\n",
       "      <td>Lunatic</td>\n",
       "      <td>62a3988cda9d7ca1c7bb22ba</td>\n",
       "    </tr>\n",
       "  </tbody>\n",
       "</table>\n",
       "<p>25623 rows × 3 columns</p>\n",
       "</div>"
      ],
      "text/plain": [
       "                              0             1                         2\n",
       "0      5f3d8fdd95f40596eae2412e        Amphis  6159ad3d143c37878b2384a9\n",
       "1      5f3d8fdd95f40596eae23e01        Torsos  6159ad3d143c37878b2384a9\n",
       "2      5f3d8fdd95f40596eae23e53       Express  6159ad3d143c37878b2384a9\n",
       "3      5f7ca648ea8a0f0714fb9a20         Laxin  6159ad3d143c37878b2384a9\n",
       "4      5f3d8fdd95f40596eae24503  Baked Potato  6159ad3d143c37878b2384a9\n",
       "...                         ...           ...                       ...\n",
       "25618  5f3d8fdd95f40596eae23f8f        Maxeew  62a3988cda9d7ca1c7bb22ba\n",
       "25619  5f3d8fdd95f40596eae23f3f      Abscrazy  62a3988cda9d7ca1c7bb22ba\n",
       "25620  5f9c7cde5246bf27936b4572         mikan  62a3988cda9d7ca1c7bb22ba\n",
       "25621  5f3d8fdd95f40596eae2414a          Burn  62a3988cda9d7ca1c7bb22ba\n",
       "25622  616da861143c37878b239d65       Lunatic  62a3988cda9d7ca1c7bb22ba\n",
       "\n",
       "[25623 rows x 3 columns]"
      ]
     },
     "execution_count": 8,
     "metadata": {},
     "output_type": "execute_result"
    }
   ],
   "source": [
    "pd.DataFrame(list(zip(mp.player_id, mp.player_tag, mp.match_id)))"
   ]
  },
  {
   "cell_type": "code",
   "execution_count": 9,
   "metadata": {},
   "outputs": [],
   "source": [
    "# Splitting Data\n",
    "Y = data[\"advanced_rating\"]\n",
    "X = data[['core_goals','core_assists', 'core_saves', 'core_shots', 'core_score','demo_inflicted', 'demo_taken']]\n",
    "\n",
    "X_train, X_test, Y_train, Y_test = train_test_split(X, Y, random_state=404)\n"
   ]
  },
  {
   "cell_type": "code",
   "execution_count": 10,
   "metadata": {},
   "outputs": [
    {
     "name": "stdout",
     "output_type": "stream",
     "text": [
      "model intercept is 0.6559702384960422 and model coefficients are [ 0.18193362  0.10851521  0.04843667  0.00215491 -0.00045149 -0.00763981\n",
      " -0.01182257]\n",
      "model score = 0.7911050337979552\n",
      "mse = 0.02452801704841751\n"
     ]
    }
   ],
   "source": [
    "model = linear_model.LinearRegression()\n",
    "model.fit(X_train, Y_train)\n",
    "y_pred = model.predict(X_test)\n",
    "print(f'model intercept is {model.intercept_} and model coefficients are {model.coef_}')\n",
    "print(f'model score = {model.score(X_test, Y_test)}')\n",
    "print(f'mse = {metrics.mean_squared_error(Y_test, y_pred)}')\n"
   ]
  },
  {
   "cell_type": "code",
   "execution_count": 11,
   "metadata": {},
   "outputs": [
    {
     "name": "stdout",
     "output_type": "stream",
     "text": [
      "model intercept is 0.6559702384960422 and model coefficients are [ 0.18193362  0.10851521  0.04843667  0.00215491 -0.00045149 -0.00763981\n",
      " -0.01182257]\n",
      "model score = 0.7911050337979552\n",
      "mse = 0.02452801704841751\n"
     ]
    }
   ],
   "source": [
    "modelR = linear_model.Ridge()\n",
    "modelR.fit(X_train,Y_train)\n",
    "modelR.score(X_test, Y_test) # \n",
    "y_pred = model.predict(X_test)\n",
    "print(f'model intercept is {model.intercept_} and model coefficients are {model.coef_}')\n",
    "print(f'model score = {model.score(X_test, Y_test)}')\n",
    "print(f'mse = {metrics.mean_squared_error(Y_test, y_pred)}')\n"
   ]
  },
  {
   "attachments": {},
   "cell_type": "markdown",
   "metadata": {},
   "source": [
    "make dataframe for coefficients and features"
   ]
  },
  {
   "cell_type": "code",
   "execution_count": 12,
   "metadata": {},
   "outputs": [
    {
     "name": "stdout",
     "output_type": "stream",
     "text": [
      "model intercept is 0.6559595152814083 and model coefficients are [ 0.18192036  0.10850757  0.04842838  0.00215379 -0.0004514  -0.00764043\n",
      " -0.0118235 ]\n",
      "['core_goals' 'core_assists' 'core_saves' 'core_shots' 'core_score'\n",
      " 'demo_inflicted' 'demo_taken']\n"
     ]
    }
   ],
   "source": [
    "print(f'model intercept is {modelR.intercept_} and model coefficients are {modelR.coef_}')\n",
    "print(modelR.feature_names_in_)"
   ]
  },
  {
   "cell_type": "code",
   "execution_count": null,
   "metadata": {},
   "outputs": [],
   "source": []
  },
  {
   "cell_type": "code",
   "execution_count": 13,
   "metadata": {},
   "outputs": [
    {
     "data": {
      "text/plain": [
       "0.7879866128603924"
      ]
     },
     "execution_count": 13,
     "metadata": {},
     "output_type": "execute_result"
    }
   ],
   "source": [
    "modelL = linear_model.Lasso(alpha = 0.01)\n",
    "modelL.fit(X_train, Y_train)\n",
    "modelL.score(X_test, Y_test)"
   ]
  },
  {
   "cell_type": "code",
   "execution_count": 14,
   "metadata": {},
   "outputs": [
    {
     "name": "stdout",
     "output_type": "stream",
     "text": [
      "model intercept is 0.6371271178634823 and model coefficients are [ 0.16385644  0.09627452  0.03511792 -0.         -0.00031597 -0.00733571\n",
      " -0.01163212]\n"
     ]
    }
   ],
   "source": [
    "print(f'model intercept is {modelL.intercept_} and model coefficients are {modelL.coef_}')"
   ]
  },
  {
   "cell_type": "code",
   "execution_count": 15,
   "metadata": {},
   "outputs": [
    {
     "data": {
      "text/html": [
       "<div>\n",
       "<style scoped>\n",
       "    .dataframe tbody tr th:only-of-type {\n",
       "        vertical-align: middle;\n",
       "    }\n",
       "\n",
       "    .dataframe tbody tr th {\n",
       "        vertical-align: top;\n",
       "    }\n",
       "\n",
       "    .dataframe thead th {\n",
       "        text-align: right;\n",
       "    }\n",
       "</style>\n",
       "<table border=\"1\" class=\"dataframe\">\n",
       "  <thead>\n",
       "    <tr style=\"text-align: right;\">\n",
       "      <th></th>\n",
       "      <th>Ridge Model</th>\n",
       "      <th>Standard Linear</th>\n",
       "      <th>Lasso</th>\n",
       "    </tr>\n",
       "  </thead>\n",
       "  <tbody>\n",
       "    <tr>\n",
       "      <th>core_goals</th>\n",
       "      <td>0.181920</td>\n",
       "      <td>0.181934</td>\n",
       "      <td>0.163856</td>\n",
       "    </tr>\n",
       "    <tr>\n",
       "      <th>core_assists</th>\n",
       "      <td>0.108508</td>\n",
       "      <td>0.108515</td>\n",
       "      <td>0.096275</td>\n",
       "    </tr>\n",
       "    <tr>\n",
       "      <th>core_saves</th>\n",
       "      <td>0.048428</td>\n",
       "      <td>0.048437</td>\n",
       "      <td>0.035118</td>\n",
       "    </tr>\n",
       "    <tr>\n",
       "      <th>core_shots</th>\n",
       "      <td>0.002154</td>\n",
       "      <td>0.002155</td>\n",
       "      <td>-0.000000</td>\n",
       "    </tr>\n",
       "    <tr>\n",
       "      <th>core_score</th>\n",
       "      <td>-0.000451</td>\n",
       "      <td>-0.000451</td>\n",
       "      <td>-0.000316</td>\n",
       "    </tr>\n",
       "    <tr>\n",
       "      <th>demo_inflicted</th>\n",
       "      <td>-0.007640</td>\n",
       "      <td>-0.007640</td>\n",
       "      <td>-0.007336</td>\n",
       "    </tr>\n",
       "    <tr>\n",
       "      <th>demo_taken</th>\n",
       "      <td>-0.011824</td>\n",
       "      <td>-0.011823</td>\n",
       "      <td>-0.011632</td>\n",
       "    </tr>\n",
       "  </tbody>\n",
       "</table>\n",
       "</div>"
      ],
      "text/plain": [
       "                Ridge Model  Standard Linear     Lasso\n",
       "core_goals         0.181920         0.181934  0.163856\n",
       "core_assists       0.108508         0.108515  0.096275\n",
       "core_saves         0.048428         0.048437  0.035118\n",
       "core_shots         0.002154         0.002155 -0.000000\n",
       "core_score        -0.000451        -0.000451 -0.000316\n",
       "demo_inflicted    -0.007640        -0.007640 -0.007336\n",
       "demo_taken        -0.011824        -0.011823 -0.011632"
      ]
     },
     "execution_count": 15,
     "metadata": {},
     "output_type": "execute_result"
    }
   ],
   "source": [
    "pd.DataFrame({\"Ridge Model\":modelR.coef_, \"Standard Linear\":model.coef_, \"Lasso\":modelL.coef_}, index = X_train.columns) "
   ]
  },
  {
   "cell_type": "code",
   "execution_count": null,
   "metadata": {},
   "outputs": [],
   "source": []
  },
  {
   "cell_type": "code",
   "execution_count": null,
   "metadata": {},
   "outputs": [],
   "source": []
  },
  {
   "cell_type": "code",
   "execution_count": null,
   "metadata": {},
   "outputs": [],
   "source": []
  }
 ],
 "metadata": {
  "kernelspec": {
   "display_name": "base",
   "language": "python",
   "name": "python3"
  },
  "language_info": {
   "codemirror_mode": {
    "name": "ipython",
    "version": 3
   },
   "file_extension": ".py",
   "mimetype": "text/x-python",
   "name": "python",
   "nbconvert_exporter": "python",
   "pygments_lexer": "ipython3",
   "version": "3.8.8"
  },
  "orig_nbformat": 4,
  "vscode": {
   "interpreter": {
    "hash": "ea8238db6dc1fe8cf6fe83219457bde9bcbcde2053d40c59d2e78211d10c5fee"
   }
  }
 },
 "nbformat": 4,
 "nbformat_minor": 2
}
